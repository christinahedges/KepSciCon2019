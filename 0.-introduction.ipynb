{
 "cells": [
  {
   "cell_type": "markdown",
   "metadata": {},
   "source": [
    "# Where are the planets hiding in K2 data?"
   ]
  },
  {
   "cell_type": "markdown",
   "metadata": {},
   "source": [
    "In my talk at [KeplerK2SciCon](https://keplerscience.arc.nasa.gov/scicon-2019/) I discussed whether there are any planets hiding in the Kepler/K2 dataset that have yet to be discovered. As highlighted in the RNAAS by [Dotson et al 2018](https://iopscience.iop.org/article/10.3847/2515-5172/ab01c6), based only on the Kepler prime planet occurrence rates, there are many planets still waiting to be found in K2. The figure from that work is below:"
   ]
  },
  {
   "cell_type": "markdown",
   "metadata": {},
   "source": [
    "![](https://iopscience.iop.org/2515-5172/3/1/23/downloadHRFigure/figure/rnaasab01c6f1)\n",
    "*Figure 1. Predicted number of detectable exoplanets in the K2 data set, based on the original Kepler catalog. The number of predicted planets in each magnitude bin is shown in black, with the uncertainty represented by the gray shaded region. The distribution of confirmed K2 planets at time of publishing are shown in red.*"
   ]
  },
  {
   "cell_type": "markdown",
   "metadata": {},
   "source": [
    "There are many places where these planets could be hiding. Some of these planets will be found if we are able to employ new techniques such as\n",
    "\n",
    "* Improved systematics removal, (e.g. K2SFF, EVEREST, K2SC)\n",
    "* Improved stellar variability removal (e.g. see the `exoplanet` and `celerite` packages)\n",
    "* Non-Periodic transit hunting methods (to find planets around binaries, planets with strong TTVs)\n",
    "* Crowded field photometry (to find planets in crowded regions such as the K2C9 Super Stamp)\n",
    "* Understanding of multi-planet search biases\n",
    "* Homogenous searches, reapplying our new techniques to early campaigns.\n",
    "\n",
    "\n",
    "However, these ideas and figures can not really show you that planets are still waiting to be found in the Kepler/K2 data set. In order to show some key examples, in this set of notebooks I highlight **three unreported planet candidates** in the existing K2 exoplanet catalogue. These candidates have been hiding due to three key reasons:\n",
    "\n",
    "* Different motion detrending methods have various strengths and weaknesses, and so searching for planets in light curve detrended with **multiple techniques** can yield new candidates\n",
    "* K2 is particularly impacted by young and variable stars, and so careful removal of **long term stellar activity** is important to find new planets.\n",
    "* Planets in multiple systems are often found to be in near resonances, and multiple planet signals can overlap in BLS periodograms. Searching carefully for additional planets **close to harmonics** in a BLS periodogram can yield more planets."
   ]
  },
  {
   "cell_type": "markdown",
   "metadata": {},
   "source": [
    "The notebooks in this repo are quick demonstrations of how to find these planets to accompany my talk. We will be formalizing these candidates in to a short paper to announce and confirm them, and discuss ways to improve transit hunting for the future."
   ]
  },
  {
   "cell_type": "code",
   "execution_count": null,
   "metadata": {},
   "outputs": [],
   "source": []
  }
 ],
 "metadata": {
  "kernelspec": {
   "display_name": "Python 3",
   "language": "python",
   "name": "python3"
  },
  "language_info": {
   "codemirror_mode": {
    "name": "ipython",
    "version": 3
   },
   "file_extension": ".py",
   "mimetype": "text/x-python",
   "name": "python",
   "nbconvert_exporter": "python",
   "pygments_lexer": "ipython3",
   "version": "3.6.5"
  }
 },
 "nbformat": 4,
 "nbformat_minor": 2
}
